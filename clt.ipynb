{
  "nbformat": 4,
  "nbformat_minor": 0,
  "metadata": {
    "colab": {
      "name": "clt.ipynb",
      "provenance": [],
      "collapsed_sections": [],
      "authorship_tag": "ABX9TyPNJCvNGUhNl+qHvvCFZ3NY",
      "include_colab_link": true
    },
    "kernelspec": {
      "name": "python3",
      "display_name": "Python 3"
    }
  },
  "cells": [
    {
      "cell_type": "markdown",
      "metadata": {
        "id": "view-in-github",
        "colab_type": "text"
      },
      "source": [
        "<a href=\"https://colab.research.google.com/github/theofil/NPLab_P4/blob/master/clt.ipynb\" target=\"_parent\"><img src=\"https://colab.research.google.com/assets/colab-badge.svg\" alt=\"Open In Colab\"/></a>"
      ]
    },
    {
      "cell_type": "code",
      "metadata": {
        "id": "poWn7wYwBtK5",
        "colab_type": "code",
        "colab": {}
      },
      "source": [
        "# central limit theorem in its simplest form\n",
        "# authored by KT 2020 03.06.2020\n",
        "import numpy as np\n",
        "import matplotlib.pyplot as plt"
      ],
      "execution_count": 0,
      "outputs": []
    },
    {
      "cell_type": "code",
      "metadata": {
        "id": "gZholzJDCAn3",
        "colab_type": "code",
        "colab": {
          "base_uri": "https://localhost:8080/",
          "height": 570
        },
        "outputId": "194ec778-d432-42f2-bfe8-3a0d61c032af"
      },
      "source": [
        "N = 2    # number of random variables to add\n",
        "\n",
        "z = []\n",
        "for i in range(5000):\n",
        "  Σx = 0\n",
        "  for j in range(N):\n",
        "    x    = np.random.uniform(0,1)  # array of N randoms in [0,1)\n",
        "    Σx  += x\n",
        "  z += [Σx]   # add each Σx in the array z = [z1, z2, ... z5000] \n",
        "  \n",
        "plt.hist(z, bins = 50)"
      ],
      "execution_count": 6,
      "outputs": [
        {
          "output_type": "execute_result",
          "data": {
            "text/plain": [
              "(array([  7.,  13.,  17.,  25.,  44.,  37.,  51.,  83.,  69.,  65.,  79.,\n",
              "         94.,  89., 105., 114., 136., 138., 148., 150., 169., 155., 165.,\n",
              "        179., 190., 181., 158., 191., 190., 161., 140., 171., 141., 144.,\n",
              "        140., 111., 118., 125., 114.,  85.,  76.,  83.,  78.,  57.,  61.,\n",
              "         45.,  29.,  37.,  23.,  13.,   6.]),\n",
              " array([0.00445053, 0.04420152, 0.0839525 , 0.12370348, 0.16345446,\n",
              "        0.20320544, 0.24295643, 0.28270741, 0.32245839, 0.36220937,\n",
              "        0.40196035, 0.44171133, 0.48146232, 0.5212133 , 0.56096428,\n",
              "        0.60071526, 0.64046624, 0.68021723, 0.71996821, 0.75971919,\n",
              "        0.79947017, 0.83922115, 0.87897214, 0.91872312, 0.9584741 ,\n",
              "        0.99822508, 1.03797606, 1.07772704, 1.11747803, 1.15722901,\n",
              "        1.19697999, 1.23673097, 1.27648195, 1.31623294, 1.35598392,\n",
              "        1.3957349 , 1.43548588, 1.47523686, 1.51498785, 1.55473883,\n",
              "        1.59448981, 1.63424079, 1.67399177, 1.71374275, 1.75349374,\n",
              "        1.79324472, 1.8329957 , 1.87274668, 1.91249766, 1.95224865,\n",
              "        1.99199963]),\n",
              " <a list of 50 Patch objects>)"
            ]
          },
          "metadata": {
            "tags": []
          },
          "execution_count": 6
        },
        {
          "output_type": "display_data",
          "data": {
            "image/png": "[encoded data removed]",
            "text/plain": [
              "<Figure size 432x288 with 1 Axes>"
            ]
          },
          "metadata": {
            "tags": [],
            "needs_background": "light"
          }
        }
      ]
    },
    {
      "cell_type": "code",
      "metadata": {
        "id": "RE4qZ13bC3XJ",
        "colab_type": "code",
        "colab": {}
      },
      "source": [
        ""
      ],
      "execution_count": 0,
      "outputs": []
    }
  ]
}