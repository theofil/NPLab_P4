{
  "nbformat": 4,
  "nbformat_minor": 0,
  "metadata": {
    "colab": {
      "name": "clt.ipynb",
      "provenance": [],
      "collapsed_sections": [],
      "authorship_tag": "ABX9TyPYkEPrGd9yxX7ldxfwikqJ",
      "include_colab_link": true
    },
    "kernelspec": {
      "name": "python3",
      "display_name": "Python 3"
    }
  },
  "cells": [
    {
      "cell_type": "markdown",
      "metadata": {
        "id": "view-in-github",
        "colab_type": "text"
      },
      "source": [
        "<a href=\"https://colab.research.google.com/github/theofil/NPLab_P4/blob/master/clt.ipynb\" target=\"_parent\"><img src=\"https://colab.research.google.com/assets/colab-badge.svg\" alt=\"Open In Colab\"/></a>"
      ]
    },
    {
      "cell_type": "code",
      "metadata": {
        "id": "poWn7wYwBtK5",
        "colab_type": "code",
        "colab": {}
      },
      "source": [
        "# central limit theorem in its simplest form\n",
        "# authored by KT 2020 03.06.2020\n",
        "import numpy as np\n",
        "import matplotlib.pyplot as plt"
      ],
      "execution_count": 1,
      "outputs": []
    },
    {
      "cell_type": "code",
      "metadata": {
        "id": "gZholzJDCAn3",
        "colab_type": "code",
        "colab": {
          "base_uri": "https://localhost:8080/",
          "height": 566
        },
        "outputId": "b3ba88a3-0b5b-4eb8-f888-bf3ac51eef87"
      },
      "source": [
        "N = 2    # number of random variables to add\n",
        "\n",
        "z = []\n",
        "for i in range(5000):\n",
        "  Σx = 0\n",
        "  for j in range(N):\n",
        "    x    = np.random.uniform(0,1)  # array of N randoms in [0,1)\n",
        "    Σx  += x\n",
        "  z += [Σx/N]   # add each Σx in the array z = [z1, z2, ... z5000] \n",
        "  \n",
        "plt.hist(z, bins = 50)"
      ],
      "execution_count": 4,
      "outputs": [
        {
          "output_type": "execute_result",
          "data": {
            "text/plain": [
              "(array([  9.,  14.,  19.,  25.,  33.,  49.,  62.,  49.,  72.,  74.,  79.,\n",
              "        112., 111., 100., 125., 118., 117., 162., 131., 146., 174., 158.,\n",
              "        168., 184., 178., 194., 210., 164., 188., 169., 169., 160., 119.,\n",
              "        140., 123., 108., 106., 113.,  91.,  97.,  58.,  71.,  48.,  51.,\n",
              "         36.,  39.,  32.,  19.,  17.,   9.]),\n",
              " array([0.00974578, 0.02931133, 0.04887688, 0.06844243, 0.08800798,\n",
              "        0.10757353, 0.12713908, 0.14670463, 0.16627018, 0.18583573,\n",
              "        0.20540129, 0.22496684, 0.24453239, 0.26409794, 0.28366349,\n",
              "        0.30322904, 0.32279459, 0.34236014, 0.36192569, 0.38149124,\n",
              "        0.40105679, 0.42062235, 0.4401879 , 0.45975345, 0.479319  ,\n",
              "        0.49888455, 0.5184501 , 0.53801565, 0.5575812 , 0.57714675,\n",
              "        0.5967123 , 0.61627785, 0.6358434 , 0.65540896, 0.67497451,\n",
              "        0.69454006, 0.71410561, 0.73367116, 0.75323671, 0.77280226,\n",
              "        0.79236781, 0.81193336, 0.83149891, 0.85106446, 0.87063002,\n",
              "        0.89019557, 0.90976112, 0.92932667, 0.94889222, 0.96845777,\n",
              "        0.98802332]),\n",
              " <a list of 50 Patch objects>)"
            ]
          },
          "metadata": {
            "tags": []
          },
          "execution_count": 4
        },
        {
          "output_type": "display_data",
          "data": {
            "image/png": "[encoded data removed]",
            "text/plain": [
              "<Figure size 432x288 with 1 Axes>"
            ]
          },
          "metadata": {
            "tags": [],
            "needs_background": "light"
          }
        }
      ]
    },
    {
      "cell_type": "code",
      "metadata": {
        "id": "RE4qZ13bC3XJ",
        "colab_type": "code",
        "colab": {}
      },
      "source": [
        ""
      ],
      "execution_count": null,
      "outputs": []
    }
  ]
}