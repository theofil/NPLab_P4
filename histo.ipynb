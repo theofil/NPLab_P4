{
 "cells": [
  {
   "cell_type": "code",
   "execution_count": 9,
   "id": "daf93f28",
   "metadata": {},
   "outputs": [
    {
     "name": "stdout",
     "output_type": "stream",
     "text": [
      "3.0\n",
      "4.0\n",
      "2.0\n",
      "0.0\n",
      "2.0\n",
      "[34 84 75 62 27 12  5  1  0  0]\n",
      "[ 0  1  2  3  4  5  6  7  8  9 10]\n"
     ]
    },
    {
     "data": {
      "text/plain": [
       "(array([34., 84., 75., 62., 27., 12.,  5.,  1.,  0.,  0.]),\n",
       " array([ 0,  1,  2,  3,  4,  5,  6,  7,  8,  9, 10]),\n",
       " <BarContainer object of 10 artists>)"
      ]
     },
     "execution_count": 9,
     "metadata": {},
     "output_type": "execute_result"
    },
    {
     "data": {
      "image/png": "[encoded data removed]",
      "text/plain": [
       "<Figure size 432x288 with 1 Axes>"
      ]
     },
     "metadata": {
      "needs_background": "light"
     },
     "output_type": "display_data"
    }
   ],
   "source": [
    "import matplotlib.pyplot as plt\n",
    "import numpy as np\n",
    "\n",
    "data = np.loadtxt('data.txt') #this file has to be placed in the same folder\n",
    "for i in range(5):\n",
    "    print(data[i])\n",
    "    \n",
    "hist, bins = np.histogram(data, bins = range(0,11))\n",
    "\n",
    "print(hist)\n",
    "print(bins)\n",
    "\n",
    "plt.hist(data, bins, ec='black')"
   ]
  },
  {
   "cell_type": "code",
   "execution_count": 11,
   "id": "d8acec44",
   "metadata": {},
   "outputs": [
    {
     "data": {
      "text/plain": [
       "<Figure size 432x288 with 0 Axes>"
      ]
     },
     "metadata": {},
     "output_type": "display_data"
    }
   ],
   "source": [
    "plt.savefig('exampleh1.pdf')\n",
    "plt.savefig('exampleh1.png')"
   ]
  },
  {
   "cell_type": "code",
   "execution_count": null,
   "id": "1555d64e",
   "metadata": {},
   "outputs": [],
   "source": []
  }
 ],
 "metadata": {
  "kernelspec": {
   "display_name": "Python 3",
   "language": "python",
   "name": "python3"
  },
  "language_info": {
   "codemirror_mode": {
    "name": "ipython",
    "version": 3
   },
   "file_extension": ".py",
   "mimetype": "text/x-python",
   "name": "python",
   "nbconvert_exporter": "python",
   "pygments_lexer": "ipython3",
   "version": "3.9.6"
  }
 },
 "nbformat": 4,
 "nbformat_minor": 5
}
